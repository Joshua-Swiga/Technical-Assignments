{
 "cells": [
  {
   "cell_type": "code",
   "execution_count": 1,
   "metadata": {},
   "outputs": [
    {
     "name": "stdout",
     "output_type": "stream",
     "text": [
      "23\n",
      "22\n",
      "21\n",
      "20\n",
      "19\n",
      "18\n",
      "17\n",
      "16\n",
      "15\n",
      "14\n"
     ]
    }
   ],
   "source": [
    "x= int(input('Value of X: '))\n",
    "\n",
    "for y in range(0, 10):\n",
    "    if x==y:\n",
    "        print(x+y)\n",
    "    print(x-y)"
   ]
  },
  {
   "cell_type": "code",
   "execution_count": 3,
   "metadata": {},
   "outputs": [
    {
     "name": "stdout",
     "output_type": "stream",
     "text": [
      "0 \n",
      " 4\n"
     ]
    }
   ],
   "source": [
    "a, b = 0, 4\n",
    "\n",
    "print(a,'\\n', b)"
   ]
  },
  {
   "cell_type": "code",
   "execution_count": 4,
   "metadata": {},
   "outputs": [
    {
     "name": "stdout",
     "output_type": "stream",
     "text": [
      "500\n",
      "600\n",
      "700\n",
      "800\n",
      "900\n",
      "1000\n",
      "1100\n",
      "1200\n",
      "1300\n",
      "1400\n",
      "750\n",
      "800\n",
      "850\n",
      "900\n",
      "950\n",
      "1000\n"
     ]
    }
   ],
   "source": [
    "number = 250 # Initializing value\n",
    "\n",
    "while number <= 1000: # runs along as the number is less than one throusand: termination condition\n",
    "    # checks if the nynber is greater or equal to 750 \n",
    "    if number >=750:\n",
    "        print(number)\n",
    "\n",
    "    # If number is not greater/equal to 750, this runs \n",
    "    else:\n",
    "        print(number*2) #Will be the first to run for a while\n",
    "    \n",
    "    # increment value\n",
    "    number = number + 50"
   ]
  },
  {
   "cell_type": "code",
   "execution_count": 6,
   "metadata": {},
   "outputs": [
    {
     "name": "stdout",
     "output_type": "stream",
     "text": [
      "1\n",
      "40\n",
      "4\n",
      "5\n"
     ]
    }
   ],
   "source": [
    "\n",
    "val = int(input('Value: '))\n",
    "adder = 0\n",
    "\n",
    "for c in range(1, val+1, 3): # Skipps 3\n",
    "    adder += c\n",
    "\n",
    "    if c%2 == 0:\n",
    "        print(c*10)\n",
    "    print(c)\n",
    "print(adder)"
   ]
  },
  {
   "cell_type": "code",
   "execution_count": 7,
   "metadata": {},
   "outputs": [
    {
     "name": "stdout",
     "output_type": "stream",
     "text": [
      "1\n",
      "-1\n",
      "0\n",
      "3\n",
      "1\n",
      "2\n",
      "5\n",
      "3\n",
      "4\n",
      "7\n",
      "5\n",
      "6\n",
      "9\n",
      "7\n",
      "8\n",
      "11\n",
      "9\n",
      "10\n",
      "13\n",
      "11\n",
      "12\n",
      "15\n",
      "13\n",
      "14\n",
      "17\n",
      "15\n",
      "16\n",
      "19\n",
      "17\n",
      "18\n",
      "21\n",
      "19\n",
      "20\n",
      "23\n",
      "21\n",
      "22\n",
      "25\n",
      "23\n",
      "24\n"
     ]
    }
   ],
   "source": [
    "val = 25\n",
    "for i in range(0, val+1):\n",
    "    if i % 2 == 0:\n",
    "        print(i+1)\n",
    "    print(i-1)"
   ]
  },
  {
   "cell_type": "code",
   "execution_count": 24,
   "metadata": {},
   "outputs": [
    {
     "name": "stdout",
     "output_type": "stream",
     "text": [
      "w\n",
      "e\n",
      "l\n",
      "c\n",
      "o\n",
      "m\n",
      "e\n",
      " \n",
      "n\n",
      "o\n",
      "t\n",
      "e\n"
     ]
    }
   ],
   "source": [
    "string = 'welcome note'\n",
    "counter =0\n",
    "for s in range(0, len(string) + 1):\n",
    "    if counter != len(string):\n",
    "        print(string[s])\n",
    "        counter+=1\n",
    "    else:\n",
    "        break\n",
    "\n"
   ]
  },
  {
   "cell_type": "code",
   "execution_count": 4,
   "metadata": {},
   "outputs": [
    {
     "ename": "SyntaxError",
     "evalue": "invalid syntax (1981961025.py, line 6)",
     "output_type": "error",
     "traceback": [
      "\u001b[1;36m  Cell \u001b[1;32mIn[4], line 6\u001b[1;36m\u001b[0m\n\u001b[1;33m    raise TypeError, 'Provice valid number'\u001b[0m\n\u001b[1;37m                   ^\u001b[0m\n\u001b[1;31mSyntaxError\u001b[0m\u001b[1;31m:\u001b[0m invalid syntax\n"
     ]
    }
   ],
   "source": [
    "a = int(input('Enter first number: '))\n",
    "b = int(input('Enter second number: '))\n",
    "c = int(input('Enter third number: '))\n",
    "\n",
    "if not isinstance(a, int):\n",
    "    raise TypeError, 'Provice valid number'\n",
    "assert isinstance(b, int); 'provide valid number'\n",
    "if type(c)!= int:\n",
    "    print('provide valid number')\n",
    "\n",
    "if a>b and a>c:\n",
    "    print(\"A is gratter\")\n",
    "elif b>a and b>c:\n",
    "    print(\"B is gratter\")\n",
    "else:\n",
    "    print(\"C is gratter\")"
   ]
  }
 ],
 "metadata": {
  "kernelspec": {
   "display_name": "base",
   "language": "python",
   "name": "python3"
  },
  "language_info": {
   "codemirror_mode": {
    "name": "ipython",
    "version": 3
   },
   "file_extension": ".py",
   "mimetype": "text/x-python",
   "name": "python",
   "nbconvert_exporter": "python",
   "pygments_lexer": "ipython3",
   "version": "3.11.7"
  }
 },
 "nbformat": 4,
 "nbformat_minor": 2
}
